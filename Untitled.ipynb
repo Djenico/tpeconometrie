{
 "cells": [
  {
   "cell_type": "code",
   "execution_count": 1,
   "id": "7b1466ef",
   "metadata": {},
   "outputs": [],
   "source": [
    "import numpy as np"
   ]
  },
  {
   "cell_type": "code",
   "execution_count": 2,
   "id": "e666e34d",
   "metadata": {},
   "outputs": [],
   "source": [
    "import pandas as pd"
   ]
  },
  {
   "cell_type": "code",
   "execution_count": 3,
   "id": "02613487",
   "metadata": {},
   "outputs": [],
   "source": [
    "np.random.seed(0)"
   ]
  },
  {
   "cell_type": "code",
   "execution_count": 4,
   "id": "f002bd27",
   "metadata": {},
   "outputs": [],
   "source": [
    "x=np.linspace(0,100,100)"
   ]
  },
  {
   "cell_type": "code",
   "execution_count": 6,
   "id": "b3870ba1",
   "metadata": {},
   "outputs": [],
   "source": [
    "y=3*x+np.random.normal(0,10,100)"
   ]
  },
  {
   "cell_type": "code",
   "execution_count": 7,
   "id": "df4fb2ca",
   "metadata": {},
   "outputs": [],
   "source": [
    "data=pd.DataFrame(data={'x':x,'y':y})"
   ]
  },
  {
   "cell_type": "code",
   "execution_count": 8,
   "id": "f8a3b15b",
   "metadata": {},
   "outputs": [
    {
     "name": "stdout",
     "output_type": "stream",
     "text": [
      "          x          y\n",
      "0  0.000000  17.640523\n",
      "1  1.010101   7.031875\n",
      "2  2.020202  15.847986\n",
      "3  3.030303  31.499841\n",
      "4  4.040404  30.796792\n"
     ]
    }
   ],
   "source": [
    "print(data.head())"
   ]
  },
  {
   "cell_type": "code",
   "execution_count": null,
   "id": "5defb584",
   "metadata": {},
   "outputs": [],
   "source": []
  }
 ],
 "metadata": {
  "kernelspec": {
   "display_name": "Python 3 (ipykernel)",
   "language": "python",
   "name": "python3"
  },
  "language_info": {
   "codemirror_mode": {
    "name": "ipython",
    "version": 3
   },
   "file_extension": ".py",
   "mimetype": "text/x-python",
   "name": "python",
   "nbconvert_exporter": "python",
   "pygments_lexer": "ipython3",
   "version": "3.11.4"
  }
 },
 "nbformat": 4,
 "nbformat_minor": 5
}
